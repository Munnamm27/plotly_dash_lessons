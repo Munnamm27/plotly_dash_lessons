{
 "cells": [
  {
   "cell_type": "code",
   "execution_count": 1,
   "metadata": {},
   "outputs": [],
   "source": [
    "import plotly.graph_objects as go\n",
    "import pandas as pd"
   ]
  },
  {
   "cell_type": "code",
   "execution_count": 2,
   "metadata": {},
   "outputs": [
    {
     "data": {
      "text/html": [
       "<div>\n",
       "<style scoped>\n",
       "    .dataframe tbody tr th:only-of-type {\n",
       "        vertical-align: middle;\n",
       "    }\n",
       "\n",
       "    .dataframe tbody tr th {\n",
       "        vertical-align: top;\n",
       "    }\n",
       "\n",
       "    .dataframe thead th {\n",
       "        text-align: right;\n",
       "    }\n",
       "</style>\n",
       "<table border=\"1\" class=\"dataframe\">\n",
       "  <thead>\n",
       "    <tr style=\"text-align: right;\">\n",
       "      <th></th>\n",
       "      <th>merchant_size</th>\n",
       "      <th>division</th>\n",
       "      <th>category</th>\n",
       "      <th>amount</th>\n",
       "      <th>count</th>\n",
       "    </tr>\n",
       "  </thead>\n",
       "  <tbody>\n",
       "    <tr>\n",
       "      <th>0</th>\n",
       "      <td>Small</td>\n",
       "      <td>Khulna</td>\n",
       "      <td>Eating and Drinking</td>\n",
       "      <td>3115535.84</td>\n",
       "      <td>1364</td>\n",
       "    </tr>\n",
       "    <tr>\n",
       "      <th>1</th>\n",
       "      <td>Medium</td>\n",
       "      <td>Chittagong</td>\n",
       "      <td>Eating and Drinking</td>\n",
       "      <td>7461742.72</td>\n",
       "      <td>2020</td>\n",
       "    </tr>\n",
       "    <tr>\n",
       "      <th>2</th>\n",
       "      <td>Medium</td>\n",
       "      <td>Khulna</td>\n",
       "      <td>Automotive</td>\n",
       "      <td>3592350.80</td>\n",
       "      <td>748</td>\n",
       "    </tr>\n",
       "    <tr>\n",
       "      <th>3</th>\n",
       "      <td>Medium</td>\n",
       "      <td>Dhaka</td>\n",
       "      <td>Eating and Drinking</td>\n",
       "      <td>23872376.34</td>\n",
       "      <td>6440</td>\n",
       "    </tr>\n",
       "    <tr>\n",
       "      <th>4</th>\n",
       "      <td>Medium</td>\n",
       "      <td>Dhaka</td>\n",
       "      <td>Cell Phones &amp; Accessories</td>\n",
       "      <td>66248767.03</td>\n",
       "      <td>12678</td>\n",
       "    </tr>\n",
       "    <tr>\n",
       "      <th>...</th>\n",
       "      <td>...</td>\n",
       "      <td>...</td>\n",
       "      <td>...</td>\n",
       "      <td>...</td>\n",
       "      <td>...</td>\n",
       "    </tr>\n",
       "    <tr>\n",
       "      <th>309</th>\n",
       "      <td>Medium</td>\n",
       "      <td>Chittagong</td>\n",
       "      <td>Unstructure Merchant</td>\n",
       "      <td>1.06</td>\n",
       "      <td>1</td>\n",
       "    </tr>\n",
       "    <tr>\n",
       "      <th>310</th>\n",
       "      <td>Large</td>\n",
       "      <td>Barisal</td>\n",
       "      <td>Automotive</td>\n",
       "      <td>50.00</td>\n",
       "      <td>1</td>\n",
       "    </tr>\n",
       "    <tr>\n",
       "      <th>311</th>\n",
       "      <td>POS</td>\n",
       "      <td>Dhaka</td>\n",
       "      <td>Leather &amp; Clothing</td>\n",
       "      <td>1.00</td>\n",
       "      <td>1</td>\n",
       "    </tr>\n",
       "    <tr>\n",
       "      <th>312</th>\n",
       "      <td>Small</td>\n",
       "      <td>Barisal</td>\n",
       "      <td>Sports &amp; Music</td>\n",
       "      <td>3650.00</td>\n",
       "      <td>2</td>\n",
       "    </tr>\n",
       "    <tr>\n",
       "      <th>313</th>\n",
       "      <td>Large</td>\n",
       "      <td>Rajshahi</td>\n",
       "      <td>Home &amp; Kitchen</td>\n",
       "      <td>50.00</td>\n",
       "      <td>1</td>\n",
       "    </tr>\n",
       "  </tbody>\n",
       "</table>\n",
       "<p>314 rows × 5 columns</p>\n",
       "</div>"
      ],
      "text/plain": [
       "    merchant_size    division                   category       amount  count\n",
       "0           Small      Khulna        Eating and Drinking   3115535.84   1364\n",
       "1          Medium  Chittagong        Eating and Drinking   7461742.72   2020\n",
       "2          Medium      Khulna                 Automotive   3592350.80    748\n",
       "3          Medium       Dhaka        Eating and Drinking  23872376.34   6440\n",
       "4          Medium       Dhaka  Cell Phones & Accessories  66248767.03  12678\n",
       "..            ...         ...                        ...          ...    ...\n",
       "309        Medium  Chittagong       Unstructure Merchant         1.06      1\n",
       "310         Large     Barisal                 Automotive        50.00      1\n",
       "311           POS       Dhaka         Leather & Clothing         1.00      1\n",
       "312         Small     Barisal             Sports & Music      3650.00      2\n",
       "313         Large    Rajshahi             Home & Kitchen        50.00      1\n",
       "\n",
       "[314 rows x 5 columns]"
      ]
     },
     "execution_count": 2,
     "metadata": {},
     "output_type": "execute_result"
    }
   ],
   "source": [
    "df = pd.read_csv(\"sample_data.csv\")\n",
    "df"
   ]
  },
  {
   "cell_type": "code",
   "execution_count": 3,
   "metadata": {},
   "outputs": [
    {
     "data": {
      "text/plain": [
       "array(['Small', 'Medium', 'Large', 'Micro', 'Elite', 'Unknown', 'POS'],\n",
       "      dtype=object)"
      ]
     },
     "execution_count": 3,
     "metadata": {},
     "output_type": "execute_result"
    }
   ],
   "source": [
    "df.merchant_size.unique()"
   ]
  },
  {
   "cell_type": "code",
   "execution_count": 5,
   "metadata": {},
   "outputs": [],
   "source": [
    "size= 'Small'\n",
    "cat = 'Eating and Drinking'\n",
    "graph_data = df[(df['merchant_size']==size) & (df['category']==cat)]"
   ]
  },
  {
   "cell_type": "code",
   "execution_count": 6,
   "metadata": {},
   "outputs": [
    {
     "data": {
      "text/html": [
       "<div>\n",
       "<style scoped>\n",
       "    .dataframe tbody tr th:only-of-type {\n",
       "        vertical-align: middle;\n",
       "    }\n",
       "\n",
       "    .dataframe tbody tr th {\n",
       "        vertical-align: top;\n",
       "    }\n",
       "\n",
       "    .dataframe thead th {\n",
       "        text-align: right;\n",
       "    }\n",
       "</style>\n",
       "<table border=\"1\" class=\"dataframe\">\n",
       "  <thead>\n",
       "    <tr style=\"text-align: right;\">\n",
       "      <th></th>\n",
       "      <th>merchant_size</th>\n",
       "      <th>division</th>\n",
       "      <th>category</th>\n",
       "      <th>amount</th>\n",
       "      <th>count</th>\n",
       "    </tr>\n",
       "  </thead>\n",
       "  <tbody>\n",
       "    <tr>\n",
       "      <th>0</th>\n",
       "      <td>Small</td>\n",
       "      <td>Khulna</td>\n",
       "      <td>Eating and Drinking</td>\n",
       "      <td>3115535.84</td>\n",
       "      <td>1364</td>\n",
       "    </tr>\n",
       "    <tr>\n",
       "      <th>7</th>\n",
       "      <td>Small</td>\n",
       "      <td>Dhaka</td>\n",
       "      <td>Eating and Drinking</td>\n",
       "      <td>9148757.80</td>\n",
       "      <td>11166</td>\n",
       "    </tr>\n",
       "    <tr>\n",
       "      <th>24</th>\n",
       "      <td>Small</td>\n",
       "      <td>Sylhet</td>\n",
       "      <td>Eating and Drinking</td>\n",
       "      <td>10441.55</td>\n",
       "      <td>38</td>\n",
       "    </tr>\n",
       "    <tr>\n",
       "      <th>48</th>\n",
       "      <td>Small</td>\n",
       "      <td>Barisal</td>\n",
       "      <td>Eating and Drinking</td>\n",
       "      <td>659484.07</td>\n",
       "      <td>359</td>\n",
       "    </tr>\n",
       "    <tr>\n",
       "      <th>70</th>\n",
       "      <td>Small</td>\n",
       "      <td>Chittagong</td>\n",
       "      <td>Eating and Drinking</td>\n",
       "      <td>1678577.81</td>\n",
       "      <td>383</td>\n",
       "    </tr>\n",
       "    <tr>\n",
       "      <th>189</th>\n",
       "      <td>Small</td>\n",
       "      <td>Rajshahi</td>\n",
       "      <td>Eating and Drinking</td>\n",
       "      <td>219292.04</td>\n",
       "      <td>61</td>\n",
       "    </tr>\n",
       "  </tbody>\n",
       "</table>\n",
       "</div>"
      ],
      "text/plain": [
       "    merchant_size    division             category      amount  count\n",
       "0           Small      Khulna  Eating and Drinking  3115535.84   1364\n",
       "7           Small       Dhaka  Eating and Drinking  9148757.80  11166\n",
       "24          Small      Sylhet  Eating and Drinking    10441.55     38\n",
       "48          Small     Barisal  Eating and Drinking   659484.07    359\n",
       "70          Small  Chittagong  Eating and Drinking  1678577.81    383\n",
       "189         Small    Rajshahi  Eating and Drinking   219292.04     61"
      ]
     },
     "execution_count": 6,
     "metadata": {},
     "output_type": "execute_result"
    }
   ],
   "source": [
    "graph_data"
   ]
  },
  {
   "cell_type": "code",
   "execution_count": 7,
   "metadata": {},
   "outputs": [
    {
     "data": {
      "text/plain": [
       "0          Khulna\n",
       "7           Dhaka\n",
       "24         Sylhet\n",
       "48        Barisal\n",
       "70     Chittagong\n",
       "189      Rajshahi\n",
       "Name: division, dtype: object"
      ]
     },
     "execution_count": 7,
     "metadata": {},
     "output_type": "execute_result"
    }
   ],
   "source": [
    "graph_data['division']"
   ]
  },
  {
   "cell_type": "code",
   "execution_count": 8,
   "metadata": {},
   "outputs": [
    {
     "data": {
      "text/plain": [
       "0      3115535.84\n",
       "7      9148757.80\n",
       "24       10441.55\n",
       "48      659484.07\n",
       "70     1678577.81\n",
       "189     219292.04\n",
       "Name: amount, dtype: float64"
      ]
     },
     "execution_count": 8,
     "metadata": {},
     "output_type": "execute_result"
    }
   ],
   "source": [
    "graph_data['amount']"
   ]
  },
  {
   "cell_type": "code",
   "execution_count": 11,
   "metadata": {},
   "outputs": [
    {
     "data": {
      "text/plain": [
       "14832089.110000001"
      ]
     },
     "execution_count": 11,
     "metadata": {},
     "output_type": "execute_result"
    }
   ],
   "source": [
    "graph_data['amount'].sum()"
   ]
  },
  {
   "cell_type": "code",
   "execution_count": 12,
   "metadata": {},
   "outputs": [
    {
     "data": {
      "text/plain": [
       "13371"
      ]
     },
     "execution_count": 12,
     "metadata": {},
     "output_type": "execute_result"
    }
   ],
   "source": [
    "graph_data['count'].sum()"
   ]
  },
  {
   "cell_type": "code",
   "execution_count": null,
   "metadata": {},
   "outputs": [],
   "source": []
  }
 ],
 "metadata": {
  "kernelspec": {
   "display_name": "base",
   "language": "python",
   "name": "python3"
  },
  "language_info": {
   "codemirror_mode": {
    "name": "ipython",
    "version": 3
   },
   "file_extension": ".py",
   "mimetype": "text/x-python",
   "name": "python",
   "nbconvert_exporter": "python",
   "pygments_lexer": "ipython3",
   "version": "3.9.18"
  }
 },
 "nbformat": 4,
 "nbformat_minor": 2
}
